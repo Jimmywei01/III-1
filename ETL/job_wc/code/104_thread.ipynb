{
 "cells": [
  {
   "cell_type": "code",
   "execution_count": 1,
   "metadata": {
    "collapsed": true
   },
   "outputs": [],
   "source": [
    "import requests as r\n",
    "from bs4 import BeautifulSoup\n",
    "from collections import Counter\n",
    "import pandas as pd\n",
    "import time\n",
    "import threading"
   ]
  },
  {
   "cell_type": "code",
   "execution_count": 2,
   "metadata": {
    "collapsed": true
   },
   "outputs": [],
   "source": [
    "Host = 'https://www.104.com.tw'"
   ]
  },
  {
   "cell_type": "markdown",
   "metadata": {},
   "source": [
    "def innerURL(url,lock, wc): #一個用來分析內頁的function\n",
    "    try:\n",
    "#         time.sleep(10)\n",
    "        res2 = r.get(url)\n",
    "        soup = BeautifulSoup(res2.text, 'lxml')\n",
    "        lans = soup.select('.tool')[0].select('a')  #lans  is  list\n",
    "        lock.acquire()\n",
    "        for lan in lans: \n",
    "            if lan.text in wc:  \n",
    "                wc[lan.text] += 1\n",
    "            else:\n",
    "                wc[lan.text] = 1 \n",
    "        lock.release()\n",
    "        print(wc.most_common())\n",
    "        print(url)\n",
    "        time.sleep(1)\n",
    "    except Exception as e:\n",
    "        print(e)\n"
   ]
  },
  {
   "cell_type": "code",
   "execution_count": 3,
   "metadata": {
    "collapsed": false
   },
   "outputs": [],
   "source": [
    "def pageURL(url, lock,wc):  #找所有連結\n",
    "    try:\n",
    "        res = r.get(url)\n",
    "        soup = BeautifulSoup(res.text, 'lxml')\n",
    "        links = soup.select(\".j_cont > ul > li  > div > a\")\n",
    "        for link in links:\n",
    "            href = Host+link['href']\n",
    "            if(\"jobno\" in href):                #href put in innerURL function\n",
    "                print('if True')\n",
    "#                 try:\n",
    "                   【\n",
    "#                 except Exception as e:\n",
    "#                     print(e)\n",
    "    except Exception as e:\n",
    "        print(e)\n",
    "        print('Get page error: {}'.format(url))\n"
   ]
  },
  {
   "cell_type": "code",
   "execution_count": null,
   "metadata": {
    "collapsed": false
   },
   "outputs": [],
   "source": [
    "class GrabThread (threading.Thread): # new MyClass extends Thread  \n",
    "    \n",
    "    def __init__(self, url, lock, wc):   # __init__  is a constructor    #args傳入\n",
    "        super(GrabThread, self).__init__()  #super()  傳到父類別的建構子\n",
    "        self.url = url\n",
    "        self.lock = lock\n",
    "        self.wc = wc\n",
    "    \n",
    "    def run(self):   #等於java中的run  overwrite  \n",
    "        pageURL(url, self.lock, self.wc)"
   ]
  },
  {
   "cell_type": "code",
   "execution_count": null,
   "metadata": {
    "collapsed": false
   },
   "outputs": [
    {
     "name": "stdout",
     "output_type": "stream",
     "text": [
      "[Debug] all the threads are started !!\n",
      "if True\n",
      "if True\n",
      "list index out of range\n",
      "if True\n",
      "list index out of range\n",
      "if True\n",
      "list index out of range\n",
      "if True\n",
      "list index out of range\n",
      "if True\n",
      "list index out of range\n",
      "if True\n",
      "list index out of range\n",
      "if True\n",
      "list index out of range\n",
      "if True\n",
      "list index out of range\n",
      "if True\n",
      "list index out of range\n",
      "if True\n",
      "list index out of range\n",
      "if True\n",
      "list index out of range\n",
      "if True\n",
      "list index out of range\n",
      "if True\n",
      "list index out of range\n",
      "if True\n",
      "list index out of range\n",
      "if True\n",
      "list index out of range\n",
      "if True\n",
      "list index out of range\n",
      "if True\n"
     ]
    }
   ],
   "source": [
    "thread_list=[]\n",
    "lock = threading.Lock()\n",
    "wc = Counter()\n",
    "Host = 'https://www.104.com.tw'\n",
    "        \n",
    "for i in range(1,3):\n",
    "    url =  Host + '/jobbank/joblist/joblist.cfm?jobsource=n104bank1&ro=1&keyword=%E8%BB%9F%E9%AB%94%E5%B7%A5%E7%A8%8B%E5%B8%AB&order=1&asc=0&page={}'.format(i)\n",
    "    th = GrabThread(url, lock, wc)\n",
    "    th.start()\n",
    "    time.sleep(0.1)\n",
    "    thread_list.append(th)\n",
    "else:\n",
    "    print('[Debug] all the threads are started !!')\n",
    "for thread in thread_list:\n",
    "    thread.join()"
   ]
  },
  {
   "cell_type": "code",
   "execution_count": null,
   "metadata": {
    "collapsed": true
   },
   "outputs": [],
   "source": [
    "# df = pd.DataFrame(wordCoun.most_common())\n",
    "# lan_csv = df.to_csv('lan.csv')\n",
    "# df.head(10)"
   ]
  },
  {
   "cell_type": "code",
   "execution_count": null,
   "metadata": {
    "collapsed": false
   },
   "outputs": [],
   "source": [
    "wc.most_common()\n"
   ]
  },
  {
   "cell_type": "code",
   "execution_count": null,
   "metadata": {
    "collapsed": true
   },
   "outputs": [],
   "source": [
    "wordCoun\n",
    "wordCoun2=sorted(wordCoun.items(), key=lambda d:d[1], reverse = True)\n",
    "wordCoun2[:10]"
   ]
  }
 ],
 "metadata": {
  "kernelspec": {
   "display_name": "Python 3",
   "language": "python",
   "name": "python3"
  },
  "language_info": {
   "codemirror_mode": {
    "name": "ipython",
    "version": 3
   },
   "file_extension": ".py",
   "mimetype": "text/x-python",
   "name": "python",
   "nbconvert_exporter": "python",
   "pygments_lexer": "ipython3",
   "version": "3.6.0"
  }
 },
 "nbformat": 4,
 "nbformat_minor": 2
}
