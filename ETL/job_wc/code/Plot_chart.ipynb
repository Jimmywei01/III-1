{
 "cells": [
  {
   "cell_type": "code",
   "execution_count": 1,
   "metadata": {
    "collapsed": true
   },
   "outputs": [],
   "source": [
    "from collections import Counter\n",
    "import pandas as pd\n",
    "import matplotlib.pyplot as plt\n",
    "import os\n",
    "import re"
   ]
  },
  {
   "cell_type": "code",
   "execution_count": 2,
   "metadata": {},
   "outputs": [],
   "source": [
    "os.chdir(os.path.join(os.getcwd(), 'data'))\n",
    "files = os.listdir()\n"
   ]
  },
  {
   "cell_type": "code",
   "execution_count": 3,
   "metadata": {},
   "outputs": [
    {
     "data": {
      "text/plain": [
       "{'ASP.NET': 0,\n",
       " 'C': 0,\n",
       " 'C#': 0,\n",
       " 'C++': 0,\n",
       " 'JAVA': 0,\n",
       " 'JAVASCRIPT': 0,\n",
       " 'JQUERY': 0,\n",
       " 'OBJECTIVE-C': 0,\n",
       " 'PERL': 0,\n",
       " 'PHP': 0,\n",
       " 'PYTHON': 0,\n",
       " 'R': 0,\n",
       " 'RUBY': 0,\n",
       " 'SWIFT': 0,\n",
       " 'VBA': 0}"
      ]
     },
     "execution_count": 3,
     "metadata": {},
     "output_type": "execute_result"
    }
   ],
   "source": [
    "language = ['Java', 'C++', 'C', 'C#', 'R', 'Ruby', 'Python', 'JavaScript', 'jQuery', 'PHP', 'Perl', 'VBA', 'objective-c', 'swift','ASP.net']\n",
    "lang = [ lan.upper() for lan in language]\n",
    "all_result = {key:0 for key in lang}\n",
    "all_result"
   ]
  },
  {
   "cell_type": "code",
   "execution_count": 4,
   "metadata": {},
   "outputs": [
    {
     "data": {
      "text/plain": [
       "['104.csv',\n",
       " '123.csv',\n",
       " '518.csv',\n",
       " 'linkedin.csv',\n",
       " 'pttSoft_count.csv',\n",
       " 'pttTech_count.csv']"
      ]
     },
     "execution_count": 4,
     "metadata": {},
     "output_type": "execute_result"
    }
   ],
   "source": [
    "files"
   ]
  },
  {
   "cell_type": "code",
   "execution_count": 5,
   "metadata": {},
   "outputs": [],
   "source": [
    "asp_regex = 'ASP.NET|.net|ASP'\n",
    "\n",
    "for file in files:\n",
    "    with open(file, 'r', encoding='utf-8') as f:\n",
    "        pairs = f.read().split('\\n')\n",
    "        pairs = [pair for pair in pairs if len(pair)]\n",
    "        lan = [pair.split(',')[0].upper() for pair in pairs]\n",
    "        counts = [pair.split(',')[1] for pair in pairs]\n",
    "        result = dict(zip(lan, counts))  # {k:v for (k,v) in zip(lan, couonts)}\n",
    "        for key in result.keys():\n",
    "            if key in all_result.keys():\n",
    "                all_result[key] += int(result[key]) \n",
    "            if re.match(asp_regex, key):\n",
    "                all_result['ASP.NET'] += 1"
   ]
  },
  {
   "cell_type": "code",
   "execution_count": 6,
   "metadata": {
    "scrolled": true
   },
   "outputs": [
    {
     "data": {
      "text/plain": [
       "[('JAVA', 7174),\n",
       " ('JAVASCRIPT', 5276),\n",
       " ('C++', 4978),\n",
       " ('C#', 4595),\n",
       " ('PHP', 4385),\n",
       " ('C', 4095),\n",
       " ('JQUERY', 3095),\n",
       " ('PYTHON', 2016),\n",
       " ('RUBY', 1285),\n",
       " ('ASP.NET', 888),\n",
       " ('OBJECTIVE-C', 845),\n",
       " ('R', 469),\n",
       " ('PERL', 458),\n",
       " ('SWIFT', 252),\n",
       " ('VBA', 90)]"
      ]
     },
     "execution_count": 6,
     "metadata": {},
     "output_type": "execute_result"
    }
   ],
   "source": [
    "sorted(all_result.items(), key=lambda x:x[1], reverse=True)\n"
   ]
  },
  {
   "cell_type": "code",
   "execution_count": 14,
   "metadata": {},
   "outputs": [],
   "source": [
    "result_list = [(k,v) for (k,v) in all_result.items()]\n",
    "\n",
    "df = pd.DataFrame(result_list)\n",
    "df.columns = ['Language', 'Counts']\n",
    "df = df.set_index(['Language'], drop=True)\n",
    "# df.index = ['Language']\n"
   ]
  },
  {
   "cell_type": "code",
   "execution_count": 15,
   "metadata": {},
   "outputs": [],
   "source": [
    "sort_df = df.sort_values(by=\"Counts\", ascending=False)"
   ]
  },
  {
   "cell_type": "code",
   "execution_count": 16,
   "metadata": {},
   "outputs": [
    {
     "data": {
      "text/plain": [
       "<matplotlib.figure.Figure at 0xa5091d0>"
      ]
     },
     "metadata": {},
     "output_type": "display_data"
    },
    {
     "data": {
      "image/png": "[encoded data removed]",
      "text/plain": [
       "<matplotlib.figure.Figure at 0xa8070f0>"
      ]
     },
     "metadata": {},
     "output_type": "display_data"
    }
   ],
   "source": [
    "plt.figure(figsize=(20,15))\n",
    "sort_df.plot(kind='bar')\n",
    "plt.show()"
   ]
  }
 ],
 "metadata": {
  "kernelspec": {
   "display_name": "Python 3",
   "language": "python",
   "name": "python3"
  },
  "language_info": {
   "codemirror_mode": {
    "name": "ipython",
    "version": 3
   },
   "file_extension": ".py",
   "mimetype": "text/x-python",
   "name": "python",
   "nbconvert_exporter": "python",
   "pygments_lexer": "ipython3",
   "version": "3.6.1"
  }
 },
 "nbformat": 4,
 "nbformat_minor": 2
}
