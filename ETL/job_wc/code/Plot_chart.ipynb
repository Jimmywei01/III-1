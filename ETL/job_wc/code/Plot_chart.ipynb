{
 "cells": [
  {
   "cell_type": "code",
   "execution_count": 30,
   "metadata": {
    "collapsed": true
   },
   "outputs": [],
   "source": [
    "from collections import Counter\n",
    "import pandas as pd\n",
    "import matplotlib.pyplot as plt\n",
    "import os\n",
    "import re"
   ]
  },
  {
   "cell_type": "code",
   "execution_count": 31,
   "metadata": {
    "collapsed": true
   },
   "outputs": [],
   "source": [
    "os.chdir(os.path.join(os.getcwd(), '../data_final'))\n",
    "files = os.listdir()\n"
   ]
  },
  {
   "cell_type": "code",
   "execution_count": 32,
   "metadata": {},
   "outputs": [
    {
     "data": {
      "text/plain": [
       "{'ASP.NET': 0,\n",
       " 'C': 0,\n",
       " 'C#': 0,\n",
       " 'C++': 0,\n",
       " 'CSS': 0,\n",
       " 'DELPHI': 0,\n",
       " 'GO': 0,\n",
       " 'HTML': 0,\n",
       " 'JAVA': 0,\n",
       " 'JAVASCRIPT': 0,\n",
       " 'JQUERY': 0,\n",
       " 'MYSQL': 0,\n",
       " 'OBJECTIVE-C': 0,\n",
       " 'PERL': 0,\n",
       " 'PHP': 0,\n",
       " 'PYTHON': 0,\n",
       " 'R': 0,\n",
       " 'RUBY': 0,\n",
       " 'SCALA': 0,\n",
       " 'SQL': 0,\n",
       " 'SWIFT': 0,\n",
       " 'TYPESCRIPT': 0,\n",
       " 'VBA': 0}"
      ]
     },
     "execution_count": 32,
     "metadata": {},
     "output_type": "execute_result"
    }
   ],
   "source": [
    "lang_str = 'C|C++|C#|PYTHON|JAVA|JAVASCRIPT|PHP|HTML|SQL|CSS|R|RUBY|PERL|SCALA|SWIFT|GO|DELPHI|TYPESCRIPT|MYSQL|Objective-c|VBA|jQuery|ASP.NET'\n",
    "language = lang_str.split('|')\n",
    "all_result = {key.upper():0 for key in language}\n",
    "all_result"
   ]
  },
  {
   "cell_type": "code",
   "execution_count": 33,
   "metadata": {},
   "outputs": [
    {
     "data": {
      "text/plain": [
       "['1111.csv',\n",
       " '518.csv',\n",
       " 'linkedin.csv',\n",
       " 'pttTech.csv',\n",
       " '123.csv',\n",
       " 'pttSoft.csv']"
      ]
     },
     "execution_count": 33,
     "metadata": {},
     "output_type": "execute_result"
    }
   ],
   "source": [
    "files"
   ]
  },
  {
   "cell_type": "code",
   "execution_count": 34,
   "metadata": {},
   "outputs": [
    {
     "name": "stdout",
     "output_type": "stream",
     "text": [
      "1111.csv\n",
      "518.csv\n",
      "linkedin.csv\n",
      "pttTech.csv\n",
      "123.csv\n",
      "pttSoft.csv\n"
     ]
    }
   ],
   "source": [
    "asp_regex = 'ASP.NET|.net|ASP'\n",
    "\n",
    "for file in files:\n",
    "    print(file)\n",
    "    with open(file, 'r', encoding='utf-8') as f:\n",
    "        pairs = f.read().split('\\n')\n",
    "        pairs = [pair for pair in pairs if len(pair)]\n",
    "        lan = [pair.split(',')[0].upper() for pair in pairs]\n",
    "        counts = [pair.split(',')[1] for pair in pairs]\n",
    "        result = dict(zip(lan, counts))  # {k:v for (k,v) in zip(lan, couonts)}\n",
    "        for key in result.keys():\n",
    "            if key in all_result.keys():\n",
    "                all_result[key] += int(result[key]) \n",
    "            if re.match(asp_regex, key):\n",
    "                all_result['ASP.NET'] += 1"
   ]
  },
  {
   "cell_type": "code",
   "execution_count": 35,
   "metadata": {
    "scrolled": true
   },
   "outputs": [
    {
     "data": {
      "text/plain": [
       "[('C#', 1874),\n",
       " ('SQL', 1559),\n",
       " ('C++', 1374),\n",
       " ('JAVA', 1268),\n",
       " ('C', 989),\n",
       " ('JAVASCRIPT', 986),\n",
       " ('PHP', 972),\n",
       " ('MYSQL', 799),\n",
       " ('HTML', 640),\n",
       " ('JQUERY', 595),\n",
       " ('PYTHON', 390),\n",
       " ('R', 261),\n",
       " ('CSS', 251),\n",
       " ('RUBY', 223),\n",
       " ('OBJECTIVE-C', 126),\n",
       " ('PERL', 91),\n",
       " ('SWIFT', 52),\n",
       " ('DELPHI', 33),\n",
       " ('VBA', 26),\n",
       " ('ASP.NET', 15),\n",
       " ('GO', 8),\n",
       " ('SCALA', 0),\n",
       " ('TYPESCRIPT', 0)]"
      ]
     },
     "execution_count": 35,
     "metadata": {},
     "output_type": "execute_result"
    }
   ],
   "source": [
    "sorted(all_result.items(), key=lambda x:x[1], reverse=True)\n"
   ]
  },
  {
   "cell_type": "code",
   "execution_count": 36,
   "metadata": {
    "collapsed": true
   },
   "outputs": [],
   "source": [
    "result_list = [(k,v) for (k,v) in all_result.items()]\n",
    "\n",
    "df = pd.DataFrame(result_list)\n",
    "df.columns = ['Language', 'Counts']\n",
    "df = df.set_index(['Language'], drop=True)\n",
    "# df.index = ['Language']\n"
   ]
  },
  {
   "cell_type": "code",
   "execution_count": 40,
   "metadata": {},
   "outputs": [
    {
     "data": {
      "text/html": [
       "<div>\n",
       "<table border=\"1\" class=\"dataframe\">\n",
       "  <thead>\n",
       "    <tr style=\"text-align: right;\">\n",
       "      <th></th>\n",
       "      <th>Counts</th>\n",
       "    </tr>\n",
       "    <tr>\n",
       "      <th>Language</th>\n",
       "      <th></th>\n",
       "    </tr>\n",
       "  </thead>\n",
       "  <tbody>\n",
       "    <tr>\n",
       "      <th>C#</th>\n",
       "      <td>1874</td>\n",
       "    </tr>\n",
       "    <tr>\n",
       "      <th>SQL</th>\n",
       "      <td>1559</td>\n",
       "    </tr>\n",
       "    <tr>\n",
       "      <th>C++</th>\n",
       "      <td>1374</td>\n",
       "    </tr>\n",
       "    <tr>\n",
       "      <th>JAVA</th>\n",
       "      <td>1268</td>\n",
       "    </tr>\n",
       "    <tr>\n",
       "      <th>C</th>\n",
       "      <td>989</td>\n",
       "    </tr>\n",
       "    <tr>\n",
       "      <th>JAVASCRIPT</th>\n",
       "      <td>986</td>\n",
       "    </tr>\n",
       "    <tr>\n",
       "      <th>PHP</th>\n",
       "      <td>972</td>\n",
       "    </tr>\n",
       "    <tr>\n",
       "      <th>MYSQL</th>\n",
       "      <td>799</td>\n",
       "    </tr>\n",
       "    <tr>\n",
       "      <th>HTML</th>\n",
       "      <td>640</td>\n",
       "    </tr>\n",
       "    <tr>\n",
       "      <th>JQUERY</th>\n",
       "      <td>595</td>\n",
       "    </tr>\n",
       "    <tr>\n",
       "      <th>PYTHON</th>\n",
       "      <td>390</td>\n",
       "    </tr>\n",
       "    <tr>\n",
       "      <th>R</th>\n",
       "      <td>261</td>\n",
       "    </tr>\n",
       "    <tr>\n",
       "      <th>CSS</th>\n",
       "      <td>251</td>\n",
       "    </tr>\n",
       "    <tr>\n",
       "      <th>RUBY</th>\n",
       "      <td>223</td>\n",
       "    </tr>\n",
       "    <tr>\n",
       "      <th>OBJECTIVE-C</th>\n",
       "      <td>126</td>\n",
       "    </tr>\n",
       "    <tr>\n",
       "      <th>PERL</th>\n",
       "      <td>91</td>\n",
       "    </tr>\n",
       "    <tr>\n",
       "      <th>SWIFT</th>\n",
       "      <td>52</td>\n",
       "    </tr>\n",
       "    <tr>\n",
       "      <th>DELPHI</th>\n",
       "      <td>33</td>\n",
       "    </tr>\n",
       "    <tr>\n",
       "      <th>VBA</th>\n",
       "      <td>26</td>\n",
       "    </tr>\n",
       "    <tr>\n",
       "      <th>ASP.NET</th>\n",
       "      <td>15</td>\n",
       "    </tr>\n",
       "    <tr>\n",
       "      <th>GO</th>\n",
       "      <td>8</td>\n",
       "    </tr>\n",
       "    <tr>\n",
       "      <th>TYPESCRIPT</th>\n",
       "      <td>0</td>\n",
       "    </tr>\n",
       "    <tr>\n",
       "      <th>SCALA</th>\n",
       "      <td>0</td>\n",
       "    </tr>\n",
       "  </tbody>\n",
       "</table>\n",
       "</div>"
      ],
      "text/plain": [
       "             Counts\n",
       "Language           \n",
       "C#             1874\n",
       "SQL            1559\n",
       "C++            1374\n",
       "JAVA           1268\n",
       "C               989\n",
       "JAVASCRIPT      986\n",
       "PHP             972\n",
       "MYSQL           799\n",
       "HTML            640\n",
       "JQUERY          595\n",
       "PYTHON          390\n",
       "R               261\n",
       "CSS             251\n",
       "RUBY            223\n",
       "OBJECTIVE-C     126\n",
       "PERL             91\n",
       "SWIFT            52\n",
       "DELPHI           33\n",
       "VBA              26\n",
       "ASP.NET          15\n",
       "GO                8\n",
       "TYPESCRIPT        0\n",
       "SCALA             0"
      ]
     },
     "execution_count": 40,
     "metadata": {},
     "output_type": "execute_result"
    }
   ],
   "source": [
    "sort_df = df.sort_values(by=\"Counts\", ascending=False)\n",
    "sort_df\n"
   ]
  },
  {
   "cell_type": "code",
   "execution_count": 39,
   "metadata": {},
   "outputs": [
    {
     "data": {
      "text/plain": [
       "<matplotlib.figure.Figure at 0x7f7ace4eccc0>"
      ]
     },
     "metadata": {},
     "output_type": "display_data"
    },
    {
     "data": {
      "image/png": "[encoded data removed]",
      "text/plain": [
       "<matplotlib.figure.Figure at 0x7f7ace4dd048>"
      ]
     },
     "metadata": {},
     "output_type": "display_data"
    }
   ],
   "source": [
    "plt.figure(figsize=(100,100))\n",
    "sort_df.plot(kind='bar')\n",
    "plt.show()"
   ]
  }
 ],
 "metadata": {
  "kernelspec": {
   "display_name": "Python 3",
   "language": "python",
   "name": "python3"
  },
  "language_info": {
   "codemirror_mode": {
    "name": "ipython",
    "version": 3
   },
   "file_extension": ".py",
   "mimetype": "text/x-python",
   "name": "python",
   "nbconvert_exporter": "python",
   "pygments_lexer": "ipython3",
   "version": "3.6.1"
  }
 },
 "nbformat": 4,
 "nbformat_minor": 2
}
