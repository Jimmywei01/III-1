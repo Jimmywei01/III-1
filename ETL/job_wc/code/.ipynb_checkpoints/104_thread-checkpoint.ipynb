{
 "cells": [
  {
   "cell_type": "code",
   "execution_count": 1,
   "metadata": {
    "collapsed": true
   },
   "outputs": [],
   "source": [
    "import requests as r\n",
    "from bs4 import BeautifulSoup\n",
    "from collections import Counter\n",
    "import pandas as pd\n",
    "import time\n",
    "import threading"
   ]
  },
  {
   "cell_type": "code",
   "execution_count": null,
   "metadata": {
    "collapsed": true
   },
   "outputs": [],
   "source": [
    "Host = 'https://www.104.com.tw'"
   ]
  },
  {
   "cell_type": "code",
   "execution_count": null,
   "metadata": {
    "collapsed": true
   },
   "outputs": [],
   "source": [
    "def innerURL(url,lock, wc): #一個用來分析內頁的function\n",
    "    try:\n",
    "#         time.sleep(10)\n",
    "        res2 = r.get(url)\n",
    "        soup = BeautifulSoup(res2.text, 'lxml')\n",
    "        lans = soup.select('.tool')[0].select('a')  #lans  is  list\n",
    "#         print(lans)\n",
    "#         global wordCoun\n",
    "        lock.acquire()\n",
    "        for lan in lans: \n",
    "            if lan.text in wc:  \n",
    "                wc[lan.text] += 1\n",
    "            else:\n",
    "                wc[lan.text] = 1 \n",
    "        lock.release()\n",
    "        print(wc.most_common())\n",
    "        print(url)\n",
    "        time.sleep(1)\n",
    "    except Exception as e:\n",
    "        print(e)\n",
    "#     return wordCoun"
   ]
  },
  {
   "cell_type": "code",
   "execution_count": null,
   "metadata": {
    "collapsed": true
   },
   "outputs": [],
   "source": [
    "def pageURL(url, lock,wc):  #找所有連結\n",
    "#     lan_list = []\n",
    "    try:\n",
    "#         time.sleep(1)\n",
    "#         global wordCoun\n",
    "        res = r.get(url)\n",
    "        soup = BeautifulSoup(res.text, 'lxml')\n",
    "        links = soup.select(\".j_cont > ul > li  > div > a\")\n",
    "        for link in links:\n",
    "            href = Host+link['href']\n",
    "            if(\"jobno\" in href):  \n",
    "    #                 lan_list.append(href)\n",
    "    #                 print(len(lan_list))\n",
    "                 innerURL(href, lock, wc)               #href put in innerURL function\n",
    "    except Exception as e:\n",
    "        print(e)\n",
    "#     return wordCoun"
   ]
  },
  {
   "cell_type": "code",
   "execution_count": null,
   "metadata": {
    "collapsed": true
   },
   "outputs": [],
   "source": [
    "class MyThread (threading.Thread): # new MyClass extends Thread  \n",
    "    def __init__(self,number, lock, wc):   # __init__  is a constructor    #args傳入\n",
    "        super().__init__(self)  #super()  傳到父類別的建構子\n",
    "        self.number=number\n",
    "        self.lock = lock\n",
    "        self.wc = wc\n",
    "    def run(self):   #等於java中的run  overwrite\n",
    "        pageURL(Host+'/jobbank/joblist/joblist.cfm?jobsource=n104bank1&ro=1&keyword=%E8%BB%9F%E9%AB%94%E5%B7%A5%E7%A8%8B%E5%B8%AB&order=1&asc=0&page={}'.format(self.number), lock,wc)\n",
    "        print('[Debug] Page {} is finished'.format(self.number))\n",
    "    \n",
    "    def pageURL(url, lock,wc):  #找所有連結\n",
    "#     lan_list = []\n",
    "    try:\n",
    "#         time.sleep(1)\n",
    "#         global wordCoun\n",
    "        res = r.get(url)\n",
    "        soup = BeautifulSoup(res.text, 'lxml')\n",
    "        links = soup.select(\".j_cont > ul > li  > div > a\")\n",
    "        for link in links:\n",
    "            href = Host+link['href']\n",
    "            if(\"jobno\" in href):  \n",
    "    #                 lan_list.append(href)\n",
    "    #                 print(len(lan_list))\n",
    "                 innerURL(href, lock, wc)               #href put in innerURL function\n",
    "    except Exception as e:\n",
    "        print(e)\n",
    "#     return wordCoun"
   ]
  },
  {
   "cell_type": "code",
   "execution_count": null,
   "metadata": {
    "collapsed": true
   },
   "outputs": [],
   "source": [
    "thread_list=[]\n",
    "lock = threading.Lock()\n",
    "wc = Counter()\n",
    "for i in range(1,151): \n",
    "    Thread=MyThread(i,lock, wc)\n",
    "#     thread=threading.Thread\n",
    "    thread_list.append(Thread)\n",
    "for thread in thread_list:\n",
    "    thread.start()\n",
    "for thread in thread_list:\n",
    "    thread.join()"
   ]
  },
  {
   "cell_type": "code",
   "execution_count": null,
   "metadata": {
    "collapsed": true
   },
   "outputs": [],
   "source": [
    "# df = pd.DataFrame(wordCoun.most_common())\n",
    "# lan_csv = df.to_csv('lan.csv')\n",
    "# df.head(10)"
   ]
  },
  {
   "cell_type": "code",
   "execution_count": null,
   "metadata": {
    "collapsed": true
   },
   "outputs": [],
   "source": [
    "wc.most_common()"
   ]
  },
  {
   "cell_type": "code",
   "execution_count": null,
   "metadata": {
    "collapsed": true
   },
   "outputs": [],
   "source": [
    "wordCoun\n",
    "wordCoun2=sorted(wordCoun.items(), key=lambda d:d[1], reverse = True)\n",
    "wordCoun2[:10]"
   ]
  }
 ],
 "metadata": {
  "kernelspec": {
   "display_name": "Python 3",
   "language": "python",
   "name": "python3"
  },
  "language_info": {
   "codemirror_mode": {
    "name": "ipython",
    "version": 3
   },
   "file_extension": ".py",
   "mimetype": "text/x-python",
   "name": "python",
   "nbconvert_exporter": "python",
   "pygments_lexer": "ipython3",
   "version": "3.6.0"
  }
 },
 "nbformat": 4,
 "nbformat_minor": 2
}
