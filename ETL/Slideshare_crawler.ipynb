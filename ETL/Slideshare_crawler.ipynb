{
 "cells": [
  {
   "cell_type": "code",
   "execution_count": 12,
   "metadata": {
    "collapsed": true
   },
   "outputs": [],
   "source": [
    "\"\"\"\n",
    "    The slideshare crawler can download any slide from slideshare.com. Just input slide's url and you will\n",
    "    get a new folder with all slides in jpg format indefault. An anternative PDF format would be genertated if \n",
    "    set optional parameter, pdf, to True.\n",
    "\n",
    "\"\"\"\n",
    "\n",
    "\n",
    "\n",
    "def slideshare_crawler(url, pdf=None):\n",
    "    import requests\n",
    "    import shutil\n",
    "    import os\n",
    "    from bs4 import BeautifulSoup\n",
    "    import img2pdf\n",
    "    import subprocess\n",
    "    import re\n",
    "    \n",
    "    \"\"\"\n",
    "        Input:\n",
    "           url -> https://www.slideshare.net/tw_dsconf/ss-73014464  # url from slideshare.com\n",
    "           pdf -> convert slide images to a single pdf file if it is true\n",
    "        Output:\n",
    "          Defutlt:\n",
    "              create a new directory containing all slides under current working directory\n",
    "          PDF mode:\n",
    "              save all slide into one pdf file under current working directory\n",
    "    \"\"\"\n",
    "\n",
    "    try: \n",
    "        res = requests.get(url)\n",
    "        soup = BeautifulSoup(res.text, 'lxml')\n",
    "       \n",
    "\n",
    "        slides =[slide['data-full'] for slide in  soup.select('section.slide > img')]          # Get links of slides\n",
    "\n",
    "        file_name = slides[0].split('com/')[1].split('-')[0]              # Get folder or file name\n",
    "        os.chdir(os.getcwd())\n",
    "        os.mkdir(file_name)\n",
    "\n",
    "        for slide in slides:\n",
    "            res2 =requests.get(slide, stream=True)\n",
    "            pic_name = pic_name = '{:03}.jpg'.format(int(re.search(r'-(\\d+)-\\d+\\.jpg', slide).group(1))) # output xxx.jpg\n",
    "            with open('./' + file_name + '/' + pic_name, 'wb') as f:\n",
    "                ## decompress the content\n",
    "                res2.raw.decode_content = True\n",
    "                shutil.copyfileobj(res2.raw, f)\n",
    "        \n",
    "        # Merge slides into one pdf file\n",
    "        if pdf == True:\n",
    "            os.chdir('./' + file_name)\n",
    "            images = os.listdir()\n",
    "            images.sort()\n",
    "            filepath = '../' + file_name + '.pdf'\n",
    "            with open(filepath, 'wb') as wf:\n",
    "                wf.write(img2pdf.convert(images))\n",
    "\n",
    "            # Delete folder after creating pdf file\n",
    "            os.chdir('..')\n",
    "            subprocess.run(['rm', '-rf', file_name])\n",
    "            print('Downloaded Successfully!')\n",
    "\n",
    "    except:\n",
    "        # Delete folder if process fails\n",
    "        subprocess.run(['rm', '-rf', file_name])\n",
    "        print('some errors happen, please try again')\n",
    "    "
   ]
  },
  {
   "cell_type": "code",
   "execution_count": 13,
   "metadata": {},
   "outputs": [
    {
     "ename": "UnboundLocalError",
     "evalue": "local variable 'file_name' referenced before assignment",
     "output_type": "error",
     "traceback": [
      "\u001b[1;31m---------------------------------------------------------------------------\u001b[0m",
      "\u001b[1;31mFeatureNotFound\u001b[0m                           Traceback (most recent call last)",
      "\u001b[1;32m<ipython-input-12-386cf1a6ff50>\u001b[0m in \u001b[0;36mslideshare_crawler\u001b[1;34m(url, pdf)\u001b[0m\n\u001b[0;32m     31\u001b[0m         \u001b[0mres\u001b[0m \u001b[1;33m=\u001b[0m \u001b[0mrequests\u001b[0m\u001b[1;33m.\u001b[0m\u001b[0mget\u001b[0m\u001b[1;33m(\u001b[0m\u001b[0murl\u001b[0m\u001b[1;33m)\u001b[0m\u001b[1;33m\u001b[0m\u001b[0m\n\u001b[1;32m---> 32\u001b[1;33m         \u001b[0msoup\u001b[0m \u001b[1;33m=\u001b[0m \u001b[0mBeautifulSoup\u001b[0m\u001b[1;33m(\u001b[0m\u001b[0mres\u001b[0m\u001b[1;33m.\u001b[0m\u001b[0mtext\u001b[0m\u001b[1;33m,\u001b[0m \u001b[1;34m'lxml'\u001b[0m\u001b[1;33m)\u001b[0m\u001b[1;33m\u001b[0m\u001b[0m\n\u001b[0m\u001b[0;32m     33\u001b[0m         \u001b[0mslides\u001b[0m \u001b[1;33m=\u001b[0m\u001b[1;33m[\u001b[0m\u001b[0mslide\u001b[0m\u001b[1;33m[\u001b[0m\u001b[1;34m'data-full'\u001b[0m\u001b[1;33m]\u001b[0m \u001b[1;32mfor\u001b[0m \u001b[0mslide\u001b[0m \u001b[1;32min\u001b[0m  \u001b[0msoup\u001b[0m\u001b[1;33m.\u001b[0m\u001b[0mselect\u001b[0m\u001b[1;33m(\u001b[0m\u001b[1;34m'section.slide > img'\u001b[0m\u001b[1;33m)\u001b[0m\u001b[1;33m]\u001b[0m\u001b[1;33m\u001b[0m\u001b[0m\n",
      "\u001b[1;32mc:\\users\\gerry\\appdata\\local\\programs\\python\\python36-32\\lib\\site-packages\\bs4\\__init__.py\u001b[0m in \u001b[0;36m__init__\u001b[1;34m(self, markup, features, builder, parse_only, from_encoding, exclude_encodings, **kwargs)\u001b[0m\n\u001b[0;32m    164\u001b[0m                     \u001b[1;34m\"requested: %s. Do you need to install a parser library?\"\u001b[0m\u001b[1;33m\u001b[0m\u001b[0m\n\u001b[1;32m--> 165\u001b[1;33m                     % \",\".join(features))\n\u001b[0m\u001b[0;32m    166\u001b[0m             \u001b[0mbuilder\u001b[0m \u001b[1;33m=\u001b[0m \u001b[0mbuilder_class\u001b[0m\u001b[1;33m(\u001b[0m\u001b[1;33m)\u001b[0m\u001b[1;33m\u001b[0m\u001b[0m\n",
      "\u001b[1;31mFeatureNotFound\u001b[0m: Couldn't find a tree builder with the features you requested: lxml. Do you need to install a parser library?",
      "\nDuring handling of the above exception, another exception occurred:\n",
      "\u001b[1;31mUnboundLocalError\u001b[0m                         Traceback (most recent call last)",
      "\u001b[1;32m<ipython-input-13-16d60a7aff4d>\u001b[0m in \u001b[0;36m<module>\u001b[1;34m()\u001b[0m\n\u001b[1;32m----> 1\u001b[1;33m \u001b[0mslideshare_crawler\u001b[0m\u001b[1;33m(\u001b[0m\u001b[1;34m'https://www.slideshare.net/ElodieAscenci/10-ways-to-spread-the-love-in-the-office'\u001b[0m\u001b[1;33m,\u001b[0m \u001b[0mpdf\u001b[0m\u001b[1;33m=\u001b[0m\u001b[1;32mTrue\u001b[0m\u001b[1;33m)\u001b[0m\u001b[1;33m\u001b[0m\u001b[0m\n\u001b[0m",
      "\u001b[1;32m<ipython-input-12-386cf1a6ff50>\u001b[0m in \u001b[0;36mslideshare_crawler\u001b[1;34m(url, pdf)\u001b[0m\n\u001b[0;32m     59\u001b[0m \u001b[1;33m\u001b[0m\u001b[0m\n\u001b[0;32m     60\u001b[0m     \u001b[1;32mexcept\u001b[0m\u001b[1;33m:\u001b[0m\u001b[1;33m\u001b[0m\u001b[0m\n\u001b[1;32m---> 61\u001b[1;33m         \u001b[0msubprocess\u001b[0m\u001b[1;33m.\u001b[0m\u001b[0mrun\u001b[0m\u001b[1;33m(\u001b[0m\u001b[1;33m[\u001b[0m\u001b[1;34m'rm'\u001b[0m\u001b[1;33m,\u001b[0m \u001b[1;34m'-rf'\u001b[0m\u001b[1;33m,\u001b[0m \u001b[0mfile_name\u001b[0m\u001b[1;33m]\u001b[0m\u001b[1;33m)\u001b[0m\u001b[1;33m\u001b[0m\u001b[0m\n\u001b[0m\u001b[0;32m     62\u001b[0m         \u001b[0mprint\u001b[0m\u001b[1;33m(\u001b[0m\u001b[1;34m'some errors happen, please try again'\u001b[0m\u001b[1;33m)\u001b[0m\u001b[1;33m\u001b[0m\u001b[0m\n\u001b[0;32m     63\u001b[0m \u001b[1;33m\u001b[0m\u001b[0m\n",
      "\u001b[1;31mUnboundLocalError\u001b[0m: local variable 'file_name' referenced before assignment"
     ]
    }
   ],
   "source": [
    "slideshare_crawler('https://www.slideshare.net/ElodieAscenci/10-ways-to-spread-the-love-in-the-office', pdf=True)\n"
   ]
  }
 ],
 "metadata": {
  "kernelspec": {
   "display_name": "Python 3",
   "language": "python",
   "name": "python3"
  },
  "language_info": {
   "codemirror_mode": {
    "name": "ipython",
    "version": 3
   },
   "file_extension": ".py",
   "mimetype": "text/x-python",
   "name": "python",
   "nbconvert_exporter": "python",
   "pygments_lexer": "ipython3",
   "version": "3.6.1"
  }
 },
 "nbformat": 4,
 "nbformat_minor": 2
}
