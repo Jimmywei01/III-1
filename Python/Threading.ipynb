{
 "cells": [
  {
   "cell_type": "code",
   "execution_count": 6,
   "metadata": {},
   "outputs": [
    {
     "name": "stdout",
     "output_type": "stream",
     "text": [
      ".pdf\n",
      ".pdf\n",
      ".pdf\n",
      ".pdf\n",
      ".pdf\n",
      "Finished downloading f1040ez.pdf\n",
      "Finished downloading f1040sb.pdf\n",
      "Finished downloading f1040.pdf\n",
      "Finished downloading f1040a.pdf\n",
      "Finished downloading f1040es.pdf\n"
     ]
    }
   ],
   "source": [
    "import os\n",
    "import urllib.request\n",
    " \n",
    "from concurrent.futures import ThreadPoolExecutor\n",
    "from concurrent.futures import as_completed\n",
    " \n",
    " \n",
    "def downloader(url):\n",
    "    \"\"\"\n",
    "    Downloads the specified URL and saves it to disk\n",
    "    \"\"\"\n",
    "    req = urllib.request.urlopen(url)\n",
    "    filename = os.path.basename(url)\n",
    "    ext = os.path.splitext(url)[1]\n",
    "    print(ext)\n",
    "    if not ext:\n",
    "        raise RuntimeError('URL does not contain an extension')\n",
    " \n",
    "    with open(filename, 'wb') as file_handle:\n",
    "        while True:\n",
    "            chunk = req.read(1024)\n",
    "            if not chunk:\n",
    "                break\n",
    "            file_handle.write(chunk)\n",
    "    msg = 'Finished downloading {filename}'.format(filename=filename)\n",
    "    return msg\n",
    " \n",
    " \n",
    "def main(urls):\n",
    "    \"\"\"\n",
    "    Create a thread pool and download specified urls\n",
    "    \"\"\"\n",
    "    with ThreadPoolExecutor(max_workers=5) as executor:\n",
    "        futures = [executor.submit(downloader, url) for url in urls]\n",
    "        for future in as_completed(futures):\n",
    "            print(future.result())\n",
    " \n",
    "if __name__ == '__main__':\n",
    "    urls = [\"http://www.irs.gov/pub/irs-pdf/f1040.pdf\",\n",
    "            \"http://www.irs.gov/pub/irs-pdf/f1040a.pdf\",\n",
    "            \"http://www.irs.gov/pub/irs-pdf/f1040ez.pdf\",\n",
    "            \"http://www.irs.gov/pub/irs-pdf/f1040es.pdf\",\n",
    "            \"http://www.irs.gov/pub/irs-pdf/f1040sb.pdf\"]\n",
    "    main(urls)"
   ]
  }
 ],
 "metadata": {
  "kernelspec": {
   "display_name": "Python 3",
   "language": "python",
   "name": "python3"
  },
  "language_info": {
   "codemirror_mode": {
    "name": "ipython",
    "version": 3.0
   },
   "file_extension": ".py",
   "mimetype": "text/x-python",
   "name": "python",
   "nbconvert_exporter": "python",
   "pygments_lexer": "ipython3",
   "version": "3.6.1"
  }
 },
 "nbformat": 4,
 "nbformat_minor": 0
}