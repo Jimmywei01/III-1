{
 "cells": [
  {
   "cell_type": "markdown",
   "metadata": {},
   "source": [
    "# Save all links"
   ]
  },
  {
   "cell_type": "code",
   "execution_count": null,
   "metadata": {
    "collapsed": true
   },
   "outputs": [],
   "source": [
    "from selenium import webdriver\n",
    "from selenium.webdriver.common.keys import Keys\n",
    "from bs4 import BeautifulSoup\n",
    "import requests\n",
    "import re\n",
    "import time\n",
    "\n",
    "# open browser\n",
    "browser = webdriver.Chrome()\n",
    "browser.get('http://www.yes123.com.tw/admin/index.asp')\n",
    "\n",
    "# input search keywords\n",
    "browser.find_element_by_id('find_key1').clear()\n",
    "browser.find_element_by_id('find_key1').send_keys('軟體 工程師')\n",
    "\n",
    "time.sleep(2)\n",
    "# Click search button\n",
    "browser.find_element_by_class_name('n_serch_btn').click()\n",
    "\n",
    "time.sleep(2)\n",
    "counter = 0\n",
    "\n",
    "while True:\n",
    "    try:\n",
    "        counter += 1\n",
    "        browser.find_element_by_tag_name('body').send_keys(Keys.END)\n",
    "        links = [link.get_attribute('href') for link in browser.find_elements_by_class_name('jobname')]\n",
    "\n",
    "        with open('link_yes123_2.csv', 'w') as f:\n",
    "            f.write('\\n'.join(links) + '\\n')\n",
    "        print('[Debug] links of page %d are saved' % (counter))\n",
    "        browser.find_element_by_link_text('>').click()\n",
    "        time.sleep(1)   \n",
    "    except Exception as e:\n",
    "        print(e)\n",
    "        break\n",
    "print('The end of pages is No.%d' %(counter))\n",
    "print('Browser will quit!')\n",
    "browser.quit()"
   ]
  },
  {
   "cell_type": "markdown",
   "metadata": {},
   "source": [
    "# Get the content form one \n",
    "page\n"
   ]
  },
  {
   "cell_type": "code",
   "execution_count": null,
   "metadata": {
    "collapsed": true
   },
   "outputs": [],
   "source": [
    "def save_content(link):\n",
    "    import requests \n",
    "    from bs4 import BeautifulSoup\n",
    "    import re\n",
    "    res = requests.get(link)\n",
    "    soup = BeautifulSoup(res.text, 'lxml')\n",
    "    content = ''\n",
    "#     print(res)\n",
    "    \n",
    "    divs = soup.select('div.comp_detail')\n",
    "#     print(len(divs))\n",
    "    del divs[-1]\n",
    "    for div in divs:\n",
    "        content += div.text.replace('\\n', '').replace('\\xa0', '')\n",
    "\n",
    "    text = '/'.join(re.findall('object c|visual basic|\\.net|[A-Za-z]+[+#]*', content, re.IGNORECASE))\n",
    "\n",
    "    with open('yes123_job3.csv', 'a') as f:\n",
    "        f.write(text + '\\n')\n"
   ]
  },
  {
   "cell_type": "markdown",
   "metadata": {},
   "source": [
    "# Save all contents\n"
   ]
  },
  {
   "cell_type": "code",
   "execution_count": null,
   "metadata": {},
   "outputs": [],
   "source": [
    "import time\n",
    "\n",
    "with open('link_yes123.csv', 'r') as fr:\n",
    "    link_list = fr.read().split('\\n')\n",
    "for idx, link in enumerate(link_list):\n",
    "    if idx % 50 == 0:\n",
    "        print('Current link {}'.format(idx))\n",
    "    try:\n",
    "        save_content(link)\n",
    "#         time.sleep(0.3)\n",
    "    except Exception as e:\n",
    "        print(e)\n",
    "        continue"
   ]
  },
  {
   "cell_type": "markdown",
   "metadata": {},
   "source": [
    "# Multithreading"
   ]
  },
  {
   "cell_type": "code",
   "execution_count": null,
   "metadata": {
    "scrolled": true
   },
   "outputs": [],
   "source": [
    "\n",
    "import time\n",
    "\n",
    "import threading\n",
    "with open('link_yes123.csv', 'r') as fr:\n",
    "    link_list = fr.read().split('\\n')\n",
    "with open('yes123_job2.csv', 'a') as f:\n",
    "    for idx, link in enumerate(link_list):\n",
    "        if idx % 50 == 0:\n",
    "            print('Current link {}'.format(idx))\n",
    "        try:\n",
    "            lock = threading.Lock()\n",
    "            th = threading.Thread(target=save_content_th, args=(link, lock, f))\n",
    "            th.start()\n",
    "            time.sleep(0.1)\n",
    "        except Exception as e:\n",
    "            print(e)\n",
    "            continue\n",
    "    else:\n",
    "        print('Process finished')"
   ]
  },
  {
   "cell_type": "code",
   "execution_count": null,
   "metadata": {
    "collapsed": true
   },
   "outputs": [],
   "source": [
    "def save_content_th(link, lock, f):\n",
    "    import requests \n",
    "    from bs4 import BeautifulSoup\n",
    "    import re\n",
    "    import time\n",
    "    res = requests.get(link)\n",
    "#     time.sleep(1)\n",
    "    soup = BeautifulSoup(res.text, 'lxml')\n",
    "    content = ''\n",
    "    \n",
    "    divs = soup.select('div.comp_detail')\n",
    "#     del divs[-1]\n",
    "    \n",
    "    for div in divs:\n",
    "        content += div.text.replace('\\n', '').replace('\\xa0', '')\n",
    "    \n",
    "    text = '/'.join(re.findall('object c|visual basic|\\.net|[A-Za-z]+[+#]*', content, re.IGNORECASE))\n",
    "    lock.acquire()\n",
    "    f.write(text + '\\n')\n",
    "    lock.release()"
   ]
  },
  {
   "cell_type": "markdown",
   "metadata": {},
   "source": [
    "# Word Counts"
   ]
  },
  {
   "cell_type": "code",
   "execution_count": null,
   "metadata": {
    "collapsed": true
   },
   "outputs": [],
   "source": [
    "# counter\n",
    "from collections import Counter\n",
    "\n",
    "counter = Counter()\n",
    "with open('yes123_job.csv', 'r') as fr:\n",
    "    for line in fr:\n",
    "        if len(line) > 0:\n",
    "            words= list(set(line.strip().split('/')))  # remove duplicate items in line\n",
    "        for word in words:\n",
    "            if word.lower() in counter.keys():\n",
    "                counter[word.lower()] += 1\n",
    "            else:\n",
    "                counter[word.lower()] =  1\n"
   ]
  },
  {
   "cell_type": "code",
   "execution_count": null,
   "metadata": {
    "collapsed": true
   },
   "outputs": [],
   "source": [
    "counter.most_common(50)\n",
    "with open('123.csv', 'w') as f:\n",
    "    for lan, counts in counter.most_common():\n",
    "        f.write('{},{}\\n'.format(lan,counts))"
   ]
  }
 ],
 "metadata": {
  "kernelspec": {
   "display_name": "Python 3",
   "language": "python",
   "name": "python3"
  },
  "language_info": {
   "codemirror_mode": {
    "name": "ipython",
    "version": 3
   },
   "file_extension": ".py",
   "mimetype": "text/x-python",
   "name": "python",
   "nbconvert_exporter": "python",
   "pygments_lexer": "ipython3",
   "version": "3.6.1"
  }
 },
 "nbformat": 4,
 "nbformat_minor": 2
}
